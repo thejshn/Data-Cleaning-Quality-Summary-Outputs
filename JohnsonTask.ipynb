{
 "cells": [
  {
   "cell_type": "markdown",
   "id": "40dc2ebe-0d71-4188-a04b-023c20c3a7f9",
   "metadata": {
    "jp-MarkdownHeadingCollapsed": true
   },
   "source": [
    "# Import Necessary Libraries"
   ]
  },
  {
   "cell_type": "code",
   "execution_count": 1,
   "id": "da2fe4e0-ff17-46bf-a1a9-6e23e87c5fc1",
   "metadata": {},
   "outputs": [],
   "source": [
    "import pandas as pd\n",
    "import numpy as np\n",
    "import sqlite3\n",
    "import requests\n",
    "from sklearn import datasets"
   ]
  },
  {
   "cell_type": "markdown",
   "id": "c2786773-91f4-4323-bcc5-4c9f5fb5471b",
   "metadata": {
    "jp-MarkdownHeadingCollapsed": true
   },
   "source": [
    "# Load CSV File"
   ]
  },
  {
   "cell_type": "code",
   "execution_count": 2,
   "id": "0cb430ca-955e-465e-9c2a-220e12fd5263",
   "metadata": {},
   "outputs": [
    {
     "name": "stdout",
     "output_type": "stream",
     "text": [
      "First 5 rows:\n",
      "  customer_id             name                 email signup_date     source  \\\n",
      "0   CUST00000    Joshua Bryant                   NaN         NaN  Instagram   \n",
      "1   CUST00001   Nicole Stewart   nicole1@example.com    02-01-24   LinkedIn   \n",
      "2   CUST00002     Rachel Allen   rachel2@example.com    03-01-24     Google   \n",
      "3   CUST00003  Zachary Sanchez  zachary3@mailhub.org    04-01-24    YouTube   \n",
      "4   CUST00004              NaN  matthew4@mailhub.org    05-01-24   LinkedIn   \n",
      "\n",
      "  region plan_selected marketing_opt_in age      gender  \n",
      "0    NaN         basic               No  34      Female  \n",
      "1   West         basic              Yes  29        Male  \n",
      "2  North       PREMIUM              Yes  34  Non-Binary  \n",
      "3    NaN           Pro               No  40        Male  \n",
      "4   West       Premium               No  25       Other  \n"
     ]
    }
   ],
   "source": [
    "df_csv = pd.read_csv('/Users/jshn/Desktop/UPTRAIL INTERNSHIP/Project Files/customer_signups.csv')\n",
    "print(\"First 5 rows:\")\n",
    "print(df_csv.head())"
   ]
  },
  {
   "cell_type": "markdown",
   "id": "d81d35da-6f44-4344-8170-5dac2708e2c5",
   "metadata": {},
   "source": [
    "# 1. Load & Clean the Data"
   ]
  },
  {
   "cell_type": "code",
   "execution_count": 3,
   "id": "81cf17d6-9c88-4dce-a12e-e30a819a0a0d",
   "metadata": {},
   "outputs": [
    {
     "name": "stdout",
     "output_type": "stream",
     "text": [
      "customer_id          2\n",
      "name                 9\n",
      "email               34\n",
      "signup_date          2\n",
      "source               9\n",
      "region              30\n",
      "plan_selected        8\n",
      "marketing_opt_in    10\n",
      "age                 12\n",
      "gender               8\n",
      "dtype: int64\n"
     ]
    }
   ],
   "source": [
    "#Identify Missing Values \n",
    "df_csv.isnull()\n",
    "print(df_csv.isnull().sum())"
   ]
  },
  {
   "cell_type": "code",
   "execution_count": 4,
   "id": "5a9d5efc-43e9-4314-974e-0be6f35bac60",
   "metadata": {},
   "outputs": [
    {
     "name": "stdout",
     "output_type": "stream",
     "text": [
      "customer_id         object\n",
      "name                object\n",
      "email               object\n",
      "signup_date         object\n",
      "source              object\n",
      "region              object\n",
      "plan_selected       object\n",
      "marketing_opt_in    object\n",
      "age                 object\n",
      "gender              object\n",
      "dtype: object\n"
     ]
    }
   ],
   "source": [
    "#Data Types\n",
    "print(df_csv.dtypes)"
   ]
  },
  {
   "cell_type": "code",
   "execution_count": 5,
   "id": "37493d56-b4c4-4b29-96c3-9ec936599519",
   "metadata": {},
   "outputs": [
    {
     "name": "stdout",
     "output_type": "stream",
     "text": [
      "<class 'pandas.core.frame.DataFrame'>\n",
      "RangeIndex: 300 entries, 0 to 299\n",
      "Data columns (total 10 columns):\n",
      " #   Column            Non-Null Count  Dtype \n",
      "---  ------            --------------  ----- \n",
      " 0   customer_id       298 non-null    object\n",
      " 1   name              291 non-null    object\n",
      " 2   email             266 non-null    object\n",
      " 3   signup_date       298 non-null    object\n",
      " 4   source            291 non-null    object\n",
      " 5   region            270 non-null    object\n",
      " 6   plan_selected     292 non-null    object\n",
      " 7   marketing_opt_in  290 non-null    object\n",
      " 8   age               288 non-null    object\n",
      " 9   gender            292 non-null    object\n",
      "dtypes: object(10)\n",
      "memory usage: 23.6+ KB\n"
     ]
    }
   ],
   "source": [
    "#Column Structure\n",
    "df_csv.info()"
   ]
  },
  {
   "cell_type": "code",
   "execution_count": 6,
   "id": "cc3921d1-1040-442d-ae19-b57f1e26a3d4",
   "metadata": {},
   "outputs": [
    {
     "name": "stdout",
     "output_type": "stream",
     "text": [
      "    customer_id                name                  email  datetime  \\\n",
      "0     CUST00000       Joshua Bryant                    NaN       NaN   \n",
      "1     CUST00001      Nicole Stewart    nicole1@example.com  02-01-24   \n",
      "2     CUST00002        Rachel Allen    rachel2@example.com  03-01-24   \n",
      "3     CUST00003     Zachary Sanchez   zachary3@mailhub.org  04-01-24   \n",
      "4     CUST00004                 NaN   matthew4@mailhub.org  05-01-24   \n",
      "..          ...                 ...                    ...       ...   \n",
      "295   CUST00295          Gary Smith     gary95@example.com  22-10-24   \n",
      "296   CUST00296     Anthony Roberts  anthony96@mailhub.org  23-10-24   \n",
      "297   CUST00297  Timothy Mclaughlin                    NaN  24-10-24   \n",
      "298   CUST00298     Justin Mcintyre   justin98@mailhub.org  25-10-24   \n",
      "299   CUST00299   Mr. Bruce Bridges      mr.99@example.com  26-10-24   \n",
      "\n",
      "        source   region plan_selected marketing_opt_in age      gender  \n",
      "0    Instagram      NaN         basic               No  34      Female  \n",
      "1     LinkedIn     West         basic              Yes  29        Male  \n",
      "2       Google    North       PREMIUM              Yes  34  Non-Binary  \n",
      "3      YouTube      NaN           Pro               No  40        Male  \n",
      "4     LinkedIn     West       Premium               No  25       Other  \n",
      "..         ...      ...           ...              ...  ..         ...  \n",
      "295     Google     West       PREMIUM              Yes  40         NaN  \n",
      "296     Google  Central         Basic              Yes  25      Female  \n",
      "297  Instagram     West         Basic              Yes  60         NaN  \n",
      "298    YouTube    South       Premium               No  53        male  \n",
      "299        NaN    North       Premium              Yes  29        Male  \n",
      "\n",
      "[300 rows x 10 columns]\n"
     ]
    }
   ],
   "source": [
    "#Convert Signup_date To Datetime\n",
    "df_csv.rename(columns={'signup_date': 'datetime'}, inplace=True)\n",
    "print(df_csv)"
   ]
  },
  {
   "cell_type": "code",
   "execution_count": 19,
   "id": "443f16d4-6f07-496d-9e39-797cec74887b",
   "metadata": {},
   "outputs": [
    {
     "name": "stdout",
     "output_type": "stream",
     "text": [
      "Unique plan values: ['Basic' 'Premium' 'Pro' nan]\n",
      "Unique gender values: ['Female' 'Male' 'Non-Binary' 'Other' nan]\n"
     ]
    }
   ],
   "source": [
    "#Standardise Inconsistent Text Values\n",
    "# Define mappings\n",
    "plan_mapping = {\n",
    "    'basic': 'Basic',\n",
    "    'premium': 'Premium',\n",
    "    'pro': 'Pro'\n",
    "}\n",
    "\n",
    "gender_mapping = {\n",
    "    'male': 'Male',\n",
    "    'female': 'Female',\n",
    "    'non-binary': 'Non-Binary',\n",
    "    'other': 'Other'\n",
    "}\n",
    "\n",
    "# Clean plan_selected\n",
    "df_csv['plan_selected'] = (\n",
    "    df_csv['plan_selected']\n",
    "    .astype(str)\n",
    "    .str.strip()\n",
    "    .str.lower()\n",
    "    .map(plan_mapping)\n",
    ")\n",
    "\n",
    "# Clean gender\n",
    "df_csv['gender'] = (\n",
    "    df_csv['gender']\n",
    "    .astype(str)\n",
    "    .str.strip()\n",
    "    .str.lower()\n",
    "    .map(gender_mapping)\n",
    ")\n",
    "\n",
    "print(\"Unique plan values:\", df_csv['plan_selected'].unique())\n",
    "print(\"Unique gender values:\", df_csv['gender'].unique())"
   ]
  },
  {
   "cell_type": "code",
   "execution_count": 15,
   "id": "44157805-f008-4779-bfcf-a8c5b8c5b1fc",
   "metadata": {},
   "outputs": [
    {
     "name": "stdout",
     "output_type": "stream",
     "text": [
      "\\Cleaned DataFrame:\n",
      "     customer_id                name                  email  datetime  \\\n",
      "0     CUST00000       Joshua Bryant                    NaN       NaN   \n",
      "1     CUST00001      Nicole Stewart    nicole1@example.com  02-01-24   \n",
      "2     CUST00002        Rachel Allen    rachel2@example.com  03-01-24   \n",
      "3     CUST00003     Zachary Sanchez   zachary3@mailhub.org  04-01-24   \n",
      "4     CUST00004                 NaN   matthew4@mailhub.org  05-01-24   \n",
      "..          ...                 ...                    ...       ...   \n",
      "295   CUST00295          Gary Smith     gary95@example.com  22-10-24   \n",
      "296   CUST00296     Anthony Roberts  anthony96@mailhub.org  23-10-24   \n",
      "297   CUST00297  Timothy Mclaughlin                    NaN  24-10-24   \n",
      "298   CUST00298     Justin Mcintyre   justin98@mailhub.org  25-10-24   \n",
      "299   CUST00299   Mr. Bruce Bridges      mr.99@example.com  26-10-24   \n",
      "\n",
      "        source   region plan_selected marketing_opt_in age      gender  \n",
      "0    Instagram      NaN         Basic               No  34      Female  \n",
      "1     LinkedIn     West         Basic              Yes  29        Male  \n",
      "2       Google    North       Premium              Yes  34  Non-Binary  \n",
      "3      YouTube      NaN           Pro               No  40        Male  \n",
      "4     LinkedIn     West       Premium               No  25       Other  \n",
      "..         ...      ...           ...              ...  ..         ...  \n",
      "295     Google     West       Premium              Yes  40         NaN  \n",
      "296     Google  Central         Basic              Yes  25      Female  \n",
      "297  Instagram     West         Basic              Yes  60         NaN  \n",
      "298    YouTube    South       Premium               No  53        Male  \n",
      "299        NaN    North       Premium              Yes  29        Male  \n",
      "\n",
      "[299 rows x 10 columns]\n"
     ]
    }
   ],
   "source": [
    "#Removing Duplicate Rows Based on Customer Id\n",
    "df_csv = df_csv.drop_duplicates(subset='customer_id', keep='first')\n",
    "print(\"\\Cleaned DataFrame:\\n\", df_csv)"
   ]
  },
  {
   "cell_type": "code",
   "execution_count": 16,
   "id": "1801d5a3-be03-40aa-9a59-a691dfa6d09e",
   "metadata": {},
   "outputs": [],
   "source": [
    "#Handling Missing Values(region, email, age)\n",
    "\n",
    "#Missing region\n",
    "df_csv['region'] = df_csv['region'].fillna('Unknown')\n",
    "\n",
    "#Missing email\n",
    "df_csv['email'] = df_csv['email'].fillna('Not_Provided')\n",
    "\n",
    "#Missing age \n",
    "df_csv['age'] = df_csv['age'].fillna(0)"
   ]
  },
  {
   "cell_type": "markdown",
   "id": "44742283-9704-4f58-a2c9-abd2a8588b9c",
   "metadata": {},
   "source": [
    "# 2. Data Quality Summary"
   ]
  },
  {
   "cell_type": "code",
   "execution_count": 24,
   "id": "eba8eab5-d70a-433c-af29-b968d1530c5a",
   "metadata": {},
   "outputs": [
    {
     "name": "stdout",
     "output_type": "stream",
     "text": [
      "customer_id          1\n",
      "name                 9\n",
      "datetime             2\n",
      "source               9\n",
      "plan_selected       14\n",
      "marketing_opt_in    10\n",
      "gender              14\n",
      "dtype: int64\n"
     ]
    }
   ],
   "source": [
    "# Count Missing Values Per Column \n",
    "missing_values_count = df_csv.isnull().sum()\n",
    "missing_values = missing_values_count[missing_values_count > 0]  \n",
    "\n",
    "print(missing_values)"
   ]
  },
  {
   "cell_type": "code",
   "execution_count": 25,
   "id": "bc7c61d6-a81d-458b-84cd-798e1419f2dc",
   "metadata": {},
   "outputs": [
    {
     "name": "stdout",
     "output_type": "stream",
     "text": [
      "customer_id         0.334448\n",
      "name                3.010033\n",
      "email               0.000000\n",
      "datetime            0.668896\n",
      "source              3.010033\n",
      "region              0.000000\n",
      "plan_selected       4.682274\n",
      "marketing_opt_in    3.344482\n",
      "age                 0.000000\n",
      "gender              4.682274\n",
      "dtype: float64\n"
     ]
    }
   ],
   "source": [
    "# % Of Missing Values\n",
    "missing_percentage = df_csv.isnull().mean() * 100\n",
    "\n",
    "print(missing_percentage)"
   ]
  },
  {
   "cell_type": "code",
   "execution_count": 27,
   "id": "6473614a-f9e7-4415-bb5b-2d8364605bbc",
   "metadata": {},
   "outputs": [
    {
     "name": "stdout",
     "output_type": "stream",
     "text": [
      "Number of duplicate rows removed: 0\n"
     ]
    }
   ],
   "source": [
    "#Number Of Duplicates Removed \n",
    "initial_rows = len(df_csv)\n",
    "\n",
    "#Drop Duplicates\n",
    "df_csv = df_csv.drop_duplicates()\n",
    "\n",
    "final_rows = len(df_csv)\n",
    "\n",
    "#Calculate Numbers Of Duplicates Removed \n",
    "duplicates_removed = initial_rows - final_rows\n",
    "\n",
    "print(f\"Number of duplicate rows removed: {duplicates_removed}\")"
   ]
  },
  {
   "cell_type": "code",
   "execution_count": 30,
   "id": "7f72e4f9-d5ee-4e07-b48b-d6b73b2de748",
   "metadata": {},
   "outputs": [
    {
     "name": "stdout",
     "output_type": "stream",
     "text": [
      "Unique values before cleaning:\n",
      "['Female' 'Male' 'Non-Binary' 'Other' nan]\n"
     ]
    }
   ],
   "source": [
    "#Inconsistent Category Values Corrected \n",
    "print(\"Unique values before cleaning:\")\n",
    "print(df_csv['gender'].unique())"
   ]
  },
  {
   "cell_type": "markdown",
   "id": "8a58f22e-8417-4a1d-85e4-ec1600eb10f5",
   "metadata": {},
   "source": [
    "# 3. Summary Outputs (Using Pandas Aggregations)"
   ]
  },
  {
   "cell_type": "code",
   "execution_count": 42,
   "id": "d1922b15-eaf8-4787-b778-0da8a3973bbb",
   "metadata": {},
   "outputs": [
    {
     "name": "stdout",
     "output_type": "stream",
     "text": [
      "datetime\n",
      "2024-01-07    6\n",
      "2024-01-14    5\n",
      "2024-01-21    7\n",
      "2024-01-28    7\n",
      "2024-02-04    8\n",
      "2024-02-11    6\n",
      "2024-02-18    6\n",
      "2024-02-25    7\n",
      "2024-03-03    7\n",
      "2024-03-10    7\n",
      "2024-03-17    5\n",
      "2024-03-24    6\n",
      "2024-03-31    6\n",
      "2024-04-07    7\n",
      "2024-04-14    5\n",
      "2024-04-21    7\n",
      "2024-04-28    7\n",
      "2024-05-05    6\n",
      "2024-05-12    4\n",
      "2024-05-19    7\n",
      "2024-05-26    7\n",
      "2024-06-02    7\n",
      "2024-06-09    7\n",
      "2024-06-16    5\n",
      "2024-06-23    7\n",
      "2024-06-30    7\n",
      "2024-07-07    7\n",
      "2024-07-14    5\n",
      "2024-07-21    6\n",
      "2024-07-28    7\n",
      "2024-08-04    7\n",
      "2024-08-11    5\n",
      "2024-08-18    6\n",
      "2024-08-25    7\n",
      "2024-09-01    7\n",
      "2024-09-08    7\n",
      "2024-09-15    5\n",
      "2024-09-22    7\n",
      "2024-09-29    7\n",
      "2024-10-06    7\n",
      "2024-10-13    5\n",
      "2024-10-20    6\n",
      "2024-10-27    6\n",
      "2024-11-03    3\n",
      "2024-11-10    7\n",
      "2024-11-17    0\n",
      "2024-11-24    0\n",
      "2024-12-01    1\n",
      "2024-12-08    7\n",
      "2024-12-15    2\n",
      "dtype: int64\n"
     ]
    },
    {
     "name": "stderr",
     "output_type": "stream",
     "text": [
      "/var/folders/8c/f33hbs394s3b3wd1k7v6ywc40000gn/T/ipykernel_61576/548172622.py:4: UserWarning: Could not infer format, so each element will be parsed individually, falling back to `dateutil`. To ensure parsing is consistent and as-expected, please specify a format.\n",
      "  df_csv['datetime'] = pd.to_datetime(df_csv['datetime'], errors='coerce')\n"
     ]
    }
   ],
   "source": [
    "#Sign-ups per week\n",
    "\n",
    "# Convert signup_date to datetime\n",
    "df_csv['datetime'] = pd.to_datetime(df_csv['datetime'], errors='coerce')\n",
    "\n",
    "# Group by week and count signups\n",
    "signups_per_week = df_csv.groupby(pd.Grouper(key='datetime', freq='W')).size()\n",
    "\n",
    "# Print results\n",
    "print(signups_per_week)\n"
   ]
  },
  {
   "cell_type": "code",
   "execution_count": 45,
   "id": "8d6d26ca-35a7-445d-9033-aa0bde1b8490",
   "metadata": {},
   "outputs": [
    {
     "name": "stdout",
     "output_type": "stream",
     "text": [
      "        source   region plan_selected  count\n",
      "0      YouTube    South         Basic      9\n",
      "1      YouTube     East         Basic      8\n",
      "2       Google    North       Premium      7\n",
      "3    Instagram    North       Premium      6\n",
      "4     LinkedIn    South         Basic      6\n",
      "..         ...      ...           ...    ...\n",
      "98    LinkedIn  Central           Pro      1\n",
      "99    LinkedIn     East       Premium      1\n",
      "100   LinkedIn  Unknown       Premium      1\n",
      "101   Referral  Central       Premium      1\n",
      "102    YouTube     West           Pro      1\n",
      "\n",
      "[103 rows x 4 columns]\n"
     ]
    }
   ],
   "source": [
    "#Sign-ups by source, region, and plan_selected\n",
    "signups_summary = df_csv[['source', 'region', 'plan_selected']].value_counts().reset_index(name='count')\n",
    "\n",
    "print(signups_summary)"
   ]
  },
  {
   "cell_type": "code",
   "execution_count": 47,
   "id": "f377a9be-f483-4a13-8586-ff3c8f1728d3",
   "metadata": {},
   "outputs": [
    {
     "name": "stdout",
     "output_type": "stream",
     "text": [
      "       gender marketing_opt_in  count\n",
      "0      Female               No     47\n",
      "1      Female              Yes     44\n",
      "2        Male              Nil      1\n",
      "3        Male               No     50\n",
      "4        Male              Yes     38\n",
      "5  Non-Binary               No     20\n",
      "6  Non-Binary              Yes     19\n",
      "7       Other               No     32\n",
      "8       Other              Yes     24\n"
     ]
    }
   ],
   "source": [
    "#Marketing opt-in count by gender\n",
    "marketing_optin_counts = df_csv.groupby(['gender', 'marketing_opt_in']).size().reset_index(name='count')\n",
    "\n",
    "print(marketing_optin_counts)"
   ]
  },
  {
   "cell_type": "code",
   "execution_count": 49,
   "id": "26c9947a-837f-4ec0-a83d-6421ae1c42b4",
   "metadata": {},
   "outputs": [
    {
     "name": "stdout",
     "output_type": "stream",
     "text": [
      "{'min': 0.0, 'max': 206.0, 'mean': np.float64(34.68835616438356), 'median': 34.0, 'null_count': np.int64(7)}\n"
     ]
    }
   ],
   "source": [
    "#Age summary:min, max, mean, median, null count\n",
    "df_csv['age'] = pd.to_numeric(df_csv['age'], errors='coerce')  # 'coerce' will convert non-numeric values to NaN\n",
    "\n",
    "age_summary = {\n",
    "    'min': df_csv['age'].min(),\n",
    "    'max': df_csv['age'].max(),\n",
    "    'mean': df_csv['age'].mean(),\n",
    "    'median': df_csv['age'].median(),\n",
    "    'null_count': df_csv['age'].isnull().sum()\n",
    "}\n",
    "\n",
    "print(age_summary)"
   ]
  }
 ],
 "metadata": {
  "kernelspec": {
   "display_name": "Python [conda env:base] *",
   "language": "python",
   "name": "conda-base-py"
  },
  "language_info": {
   "codemirror_mode": {
    "name": "ipython",
    "version": 3
   },
   "file_extension": ".py",
   "mimetype": "text/x-python",
   "name": "python",
   "nbconvert_exporter": "python",
   "pygments_lexer": "ipython3",
   "version": "3.13.5"
  }
 },
 "nbformat": 4,
 "nbformat_minor": 5
}
